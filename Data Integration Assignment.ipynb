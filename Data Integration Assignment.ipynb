{
 "cells": [
  {
   "cell_type": "code",
   "execution_count": 2,
   "id": "4eab151d",
   "metadata": {},
   "outputs": [],
   "source": [
    "import pandas as pd\n",
    "import numpy\n",
    "import datetime\n",
    "\n",
    "censusTractData = pd.read_csv(\"./acs2017_census_tract_data.csv\")\n",
    "\n",
    "counties = censusTractData[\"County\"].unique()\n",
    "entries = []\n",
    "for county in counties:\n",
    "    # Find all the entries for the county\n",
    "    county_data = censusTractData[censusTractData['County'] == county]\n",
    "\n",
    "    # Get the states for the given county name, and calculate the data for the state/county combinations\n",
    "    states = county_data['State'].unique()\n",
    "    for state in states:\n",
    "        # Find all the entries for this state and county\n",
    "        state_county_data = county_data[county_data['State'] == state]\n",
    "        \n",
    "        # Calculate the field we want\n",
    "        total_population = state_county_data['TotalPop'].sum()\n",
    "        \n",
    "        population_in_poverty = numpy.array(state_county_data['TotalPop']) * (numpy.array(state_county_data['Poverty'])/100)\n",
    "        population_in_poverty = population_in_poverty[~numpy.isnan(population_in_poverty)]\n",
    "        overall_poverty_percentage = (numpy.sum(population_in_poverty) / total_population) * 100\n",
    "\n",
    "        total_incomes_per_population = numpy.array(state_county_data['TotalPop']) * numpy.array(state_county_data['IncomePerCap'])\n",
    "        total_incomes_per_population = total_incomes_per_population[~numpy.isnan(total_incomes_per_population)]\n",
    "        total_income_per_capita = numpy.sum(total_incomes_per_population) / total_population\n",
    "\n",
    "        # Save the fields (along with the state and county names)\n",
    "        entries.append([state, county.replace(\" County\", \"\"), total_population, overall_poverty_percentage, total_income_per_capita])\n",
    "        \n",
    "County_Info = pd.DataFrame(entries, columns=['State', 'County', 'Total Population', 'Poverty %', 'Per Capita Income'])\n"
   ]
  },
  {
   "cell_type": "code",
   "execution_count": 3,
   "id": "7c490110",
   "metadata": {},
   "outputs": [
    {
     "name": "stdout",
     "output_type": "stream",
     "text": [
      "         State   County  Total Population  Poverty %  Per Capita Income\n",
      "3000  Virginia  Loudoun            374558   3.689598       50455.645745\n",
      "      State      County  Total Population  Poverty %  Per Capita Income\n",
      "426  Oregon  Washington            572071  10.321202       35369.047499\n",
      "         State  County  Total Population  Poverty %  Per Capita Income\n",
      "1824  Kentucky  Harlan             27548  35.669482       15456.971032\n",
      "       State   County  Total Population  Poverty %  Per Capita Income\n",
      "2629  Oregon  Malheur             30421  24.298225       17567.504323\n",
      "          State       County  Total Population  Poverty %  Per Capita Income\n",
      "782  California  Los Angeles          10105722  16.998271       30798.189407\n",
      "      State  County  Total Population  Poverty %  Per Capita Income\n",
      "2877  Texas  Loving                74       17.1            35530.0\n"
     ]
    }
   ],
   "source": [
    "\n",
    "print(County_Info.query(\"County == 'Loudoun' and State == 'Virginia'\"))\n",
    "print(County_Info.query(\"County == 'Washington' and State == 'Oregon'\"))\n",
    "print(County_Info.query(\"County == 'Harlan' and State == 'Kentucky'\"))\n",
    "print(County_Info.query(\"County == 'Malheur' and State == 'Oregon'\"))\n",
    "\n",
    "max_population = County_Info['Total Population'].max()\n",
    "min_population = County_Info['Total Population'].min()\n",
    "\n",
    "print(County_Info.query(f\"`Total Population` == {max_population}\"))\n",
    "print(County_Info.query(f\"`Total Population` == {min_population}\"))\n"
   ]
  },
  {
   "cell_type": "code",
   "execution_count": 4,
   "id": "a079093e",
   "metadata": {},
   "outputs": [
    {
     "name": "stderr",
     "output_type": "stream",
     "text": [
      "C:\\Users\\15039\\AppData\\Local\\Temp/ipykernel_8284/1574576849.py:23: FutureWarning: Boolean inputs to the `inclusive` argument are deprecated infavour of `both` or `neither`.\n",
      "  feb_2021_rows = pd.to_datetime(state_county_data['date']).between(feb_2021_start, feb_2021_end, inclusive=True)\n"
     ]
    }
   ],
   "source": [
    "covidData = pd.read_csv(\"./COVID_county_data.csv\")\n",
    "\n",
    "# Get the individual counties, then combine all the data for the state/county combinations\n",
    "counties = covidData[\"county\"].unique()\n",
    "entries = []\n",
    "for county in counties:\n",
    "    # Find all the entries for the county\n",
    "    county_data = covidData[covidData['county'] == county]\n",
    "\n",
    "    # Get the states for the given county name, and calculate the data for the state/county combinations\n",
    "    states = county_data['state'].unique()\n",
    "    for state in states:\n",
    "        # Find all the entries for this state and county\n",
    "        state_county_data = county_data[county_data['state'] == state]\n",
    "        #print(state_county_data)\n",
    "\n",
    "        # Calculate the fields we want\n",
    "        total_cases = state_county_data['cases'].sum()\n",
    "        total_deaths = state_county_data['deaths'].sum()\n",
    "\n",
    "        feb_2021_start = datetime.datetime(2021, 1, 1)\n",
    "        feb_2021_end = datetime.datetime(2021, 1, 28)\n",
    "        feb_2021_rows = pd.to_datetime(state_county_data['date']).between(feb_2021_start, feb_2021_end, inclusive=True)\n",
    "        feb_2021_data = state_county_data[feb_2021_rows]\n",
    "        \n",
    "        cases_reported_feb_2021 = feb_2021_data['cases'].sum()\n",
    "        deaths_reported_feb_2021 = feb_2021_data['deaths'].sum()\n",
    "        \n",
    "        # Save the fields (along with the state and county names)\n",
    "        entries.append([state, county, total_cases, total_deaths, cases_reported_feb_2021, deaths_reported_feb_2021])\n",
    "\n",
    "# Write all the values we've saved to a new csv\n",
    "covid_feb_monthly = pd.DataFrame(entries, columns=[\"State\", \"County\", \"TotalCases\", \"TotalDeaths\", \"Feb2021Cases\", \"Feb2021Deaths\"])\n"
   ]
  },
  {
   "cell_type": "code",
   "execution_count": 5,
   "id": "d19f4dfa",
   "metadata": {},
   "outputs": [
    {
     "name": "stderr",
     "output_type": "stream",
     "text": [
      "C:\\Users\\15039\\AppData\\Local\\Temp/ipykernel_8284/663043309.py:22: FutureWarning: Boolean inputs to the `inclusive` argument are deprecated infavour of `both` or `neither`.\n",
      "  aug_rows = pd.to_datetime(state_county_data['date']).between(aug_start, aug_end, inclusive=True)\n"
     ]
    }
   ],
   "source": [
    "\n",
    "aug_entries = []\n",
    "for county in counties:\n",
    "    # Find all the entries for the county\n",
    "    county_data = covidData[covidData['county'] == county]\n",
    "\n",
    "    # Get the states for the given county name, and calculate the data for the state/county combinations\n",
    "    states = county_data['state'].unique()\n",
    "    for state in states:\n",
    "        # Find all the entries for this state and county\n",
    "        state_county_data = county_data[county_data['state'] == state]\n",
    "        #print(state_county_data)\n",
    "\n",
    "        # Calculate the fields we want\n",
    "        total_cases = state_county_data['cases'].sum()\n",
    "        total_deaths = state_county_data['deaths'].sum()\n",
    "\n",
    "        aug_2020_start = datetime.datetime(2020, 8, 1)\n",
    "        aug_2020_end = datetime.datetime(2020, 8, 30)\n",
    "        aug_2020_rows = pd.to_datetime(state_county_data['date']).between(aug_2020_start, aug_2020_end, inclusive=True)\n",
    "        aug_2020_data = state_county_data[aug_2020_rows]\n",
    "        \n",
    "        cases_reported_aug_2020 = aug_2020_data['cases'].sum()\n",
    "        deaths_reported_aug_2020 = aug_2020_data['deaths'].sum()\n",
    "        \n",
    "        #Save the fields (along with the state and county names)\n",
    "        aug_entries.append([state, county, total_cases, total_deaths, cases_reported_aug_2020, deaths_reported_aug_2020])\n",
    "\n",
    "# Write all the values we've saved to a new csv\n",
    "covid_aug_monthly = pd.DataFrame(aug_entries, columns=[\"State\", \"County\", \"TotalCases\", \"TotalDeaths\", \"Aug2020Cases\", \"Aug2020Deaths\"])\n"
   ]
  },
  {
   "cell_type": "code",
   "execution_count": 6,
   "id": "8f449faf",
   "metadata": {},
   "outputs": [
    {
     "name": "stderr",
     "output_type": "stream",
     "text": [
      "C:\\Users\\15039\\AppData\\Local\\Temp/ipykernel_8284/1217578740.py:24: FutureWarning: Boolean inputs to the `inclusive` argument are deprecated infavour of `both` or `neither`.\n",
      "  jan_2021_rows = pd.to_datetime(state_county_data['date']).between(jan_2021_start, jan_2021_end, inclusive=True)\n"
     ]
    }
   ],
   "source": [
    "entries = []\n",
    "for county in counties:\n",
    "    # Find all the entries for the county\n",
    "    county_data = covidData[covidData['county'] == county]\n",
    "\n",
    "    # Get the states for the given county name, and calculate the data for the state/county combinations\n",
    "    states = county_data['state'].unique()\n",
    "    for state in states:\n",
    "        # Find all the entries for this state and county\n",
    "        state_county_data = county_data[county_data['state'] == state]\n",
    "        #print(state_county_data)\n",
    "\n",
    "        # Calculate the fields we want\n",
    "        total_cases = state_county_data['cases'].sum()\n",
    "        total_deaths = state_county_data['deaths'].sum()\n",
    "\n",
    "        jan_2021_start = datetime.datetime(2021, 1, 1)\n",
    "        jan_2021_end = datetime.datetime(2021, 1, 31)\n",
    "        jan_2021_rows = pd.to_datetime(state_county_data['date']).between(jan_2021_start, jan_2021_end, inclusive=True)\n",
    "        jan_2021_data = state_county_data[jan_2021_rows]\n",
    "        \n",
    "        cases_reported_jan_2021 = jan_2021_data['cases'].sum()\n",
    "        deaths_reported_jan_2021 = jan_2021_data['deaths'].sum()\n",
    "        \n",
    "        # Save the fields (along with the state and county names)\n",
    "        entries.append([state, county, total_cases, total_deaths, cases_reported_jan_2021, deaths_reported_jan_2021])\n",
    "\n",
    "# Write all the values we've saved to a new csv\n",
    "covid_jan_monthly = pd.DataFrame(entries, columns=[\"State\", \"County\", \"TotalCases\", \"TotalDeaths\", \"Jan2021Cases\", \"Jan2021Deaths\"])\n"
   ]
  },
  {
   "cell_type": "code",
   "execution_count": 7,
   "id": "eee1cb83",
   "metadata": {},
   "outputs": [
    {
     "name": "stdout",
     "output_type": "stream",
     "text": [
      "       State   County  TotalCases  TotalDeaths  Feb2021Cases  Feb2021Deaths\n",
      "2645  Oregon  Malheur      453634       7770.0         86529         1459.0\n",
      "       State   County  TotalCases  TotalDeaths  AugCases  AugDeaths\n",
      "2645  Oregon  Malheur      453634       7770.0         0        0.0\n",
      "       State   County  TotalCases  TotalDeaths  Jan2021Cases  Jan2021Deaths\n",
      "2645  Oregon  Malheur      453634       7770.0         96297         1627.0\n"
     ]
    }
   ],
   "source": [
    "print(covid_feb_monthly.query(\"County == 'Malheur'\"))\n",
    "print(covid_aug_monthly.query(\"County == 'Malheur'\"))\n",
    "print(covid_jan_monthly.query(\"County == 'Malheur'\"))"
   ]
  },
  {
   "cell_type": "code",
   "execution_count": 8,
   "id": "49b6a1ca",
   "metadata": {},
   "outputs": [],
   "source": [
    "COVID_summary = County_Info.merge(covid_jan_monthly, how='inner')\n",
    "COVID_summary = COVID_summary.drop(columns=['Jan2021Cases', 'Jan2021Deaths'])\n",
    "#print(COVID_summary)\n",
    "\n",
    "COVID_summary[\"id\"] = COVID_summary.index + 1\n",
    "\n",
    "cols = list(COVID_summary.columns)\n",
    "cols = [cols[-1]] + cols[:-1]\n",
    "COVID_summary = COVID_summary[cols]"
   ]
  },
  {
   "cell_type": "code",
   "execution_count": 14,
   "id": "1a41dc32",
   "metadata": {},
   "outputs": [
    {
     "name": "stderr",
     "output_type": "stream",
     "text": [
      "C:\\Users\\15039\\AppData\\Local\\Temp/ipykernel_8284/2540464618.py:9: SettingWithCopyWarning: \n",
      "A value is trying to be set on a copy of a slice from a DataFrame.\n",
      "Try using .loc[row_indexer,col_indexer] = value instead\n",
      "\n",
      "See the caveats in the documentation: https://pandas.pydata.org/pandas-docs/stable/user_guide/indexing.html#returning-a-view-versus-a-copy\n",
      "  COVID_summary['TotalCasesPer100K'] = COVID_summary.apply(lambda row: getTotalCasesPer100K(row), axis=1)\n",
      "C:\\Users\\15039\\AppData\\Local\\Temp/ipykernel_8284/2540464618.py:10: SettingWithCopyWarning: \n",
      "A value is trying to be set on a copy of a slice from a DataFrame.\n",
      "Try using .loc[row_indexer,col_indexer] = value instead\n",
      "\n",
      "See the caveats in the documentation: https://pandas.pydata.org/pandas-docs/stable/user_guide/indexing.html#returning-a-view-versus-a-copy\n",
      "  COVID_summary['TotalDeathsPer100K'] = COVID_summary.apply(lambda row: getTotalDeathsPer100K(row), axis=1)\n"
     ]
    }
   ],
   "source": [
    "def getTotalCasesPer100K(row):\n",
    "        total_population = int(row['Total Population'])/ 100000\n",
    "        return int(row['TotalCases'])/ total_population\n",
    "    \n",
    "def getTotalDeathsPer100K(row):\n",
    "        total_population = int(row['Total Population'])/ 100000\n",
    "        return int(row['TotalDeaths'])/ total_population\n",
    "\n",
    "COVID_summary['TotalCasesPer100K'] = COVID_summary.apply(lambda row: getTotalCasesPer100K(row), axis=1)\n",
    "COVID_summary['TotalDeathsPer100K'] = COVID_summary.apply(lambda row: getTotalDeathsPer100K(row), axis=1)"
   ]
  },
  {
   "cell_type": "code",
   "execution_count": 15,
   "id": "82668799",
   "metadata": {},
   "outputs": [
    {
     "name": "stdout",
     "output_type": "stream",
     "text": [
      "      id   State      County  Total Population  Poverty %  Per Capita Income  \\\n",
      "426  427  Oregon  Washington            572071  10.321202       35369.047499   \n",
      "\n",
      "     TotalCases  TotalDeaths  TotalCasesPer100K  TotalDeathsPer100K  \n",
      "426     2157339      22455.0      377110.358679          3925.21208  \n",
      "        id   State   County  Total Population  Poverty %  Per Capita Income  \\\n",
      "2555  2556  Oregon  Malheur             30421  24.298225       17567.504323   \n",
      "\n",
      "      TotalCases  TotalDeaths  TotalCasesPer100K  TotalDeathsPer100K  \n",
      "2555      453634       7770.0       1.491187e+06        25541.566681  \n",
      "        id     State   County  Total Population  Poverty %  Per Capita Income  \\\n",
      "2926  2927  Virginia  Loudoun            374558   3.689598       50455.645745   \n",
      "\n",
      "      TotalCases  TotalDeaths  TotalCasesPer100K  TotalDeathsPer100K  \n",
      "2926     2496450      35820.0       666505.58792          9563.27191  \n",
      "        id     State  County  Total Population  Poverty %  Per Capita Income  \\\n",
      "1817  1818  Kentucky  Harlan             27548  35.669482       15456.971032   \n",
      "\n",
      "      TotalCases  TotalDeaths  TotalCasesPer100K  TotalDeathsPer100K  \n",
      "1817      205984       3994.0       747727.60273        14498.330187  \n"
     ]
    }
   ],
   "source": [
    "\n",
    "print(COVID_summary.query(\"County == 'Washington' and State == 'Oregon'\"))\n",
    "print(COVID_summary.query(\"County == 'Malheur' and State == 'Oregon'\"))\n",
    "print(COVID_summary.query(\"County == 'Loudoun' and State == 'Virginia'\"))\n",
    "print(COVID_summary.query(\"County == 'Harlan' and State == 'Kentucky'\"))"
   ]
  },
  {
   "cell_type": "code",
   "execution_count": 18,
   "id": "7222fea9",
   "metadata": {},
   "outputs": [
    {
     "name": "stdout",
     "output_type": "stream",
     "text": [
      "-0.11895289856840797\n",
      "-0.07086194982221239\n",
      "0.4787857338001697\n",
      "0.42613784383071596\n",
      "-0.03711441310877822\n",
      "-0.041358910479869344\n",
      "0.18585952997050903\n",
      "0.21967385647735752\n"
     ]
    }
   ],
   "source": [
    "def calculateR(column1, column2, data, isOregon):\n",
    "    R = data[column1].corr(data[column2])\n",
    "    print(R)\n",
    "    if (R > 0.5 or R < -0.5):\n",
    "        plotName = column1 + \"-\" + column2 + \".png\"\n",
    "        if (isOregon == True):\n",
    "            plotName = \"Oregon-\" + plotName\n",
    "        data.plot.scatter(column1, column2).get_figure().savefig(\"graphs/\" + plotName)\n",
    "\n",
    "\n",
    "# Calculate the correlation between columns for all counties in the state of Oregon\n",
    "oregon_data = COVID_summary[COVID_summary['State'] == \"Oregon\"]\n",
    "calculateR(\"TotalCases\", \"Poverty %\", oregon_data, True)\n",
    "calculateR(\"TotalDeaths\", \"Poverty %\", oregon_data, True)\n",
    "calculateR(\"TotalCases\", \"Per Capita Income\", oregon_data, True)\n",
    "calculateR(\"TotalDeaths\", \"Per Capita Income\", oregon_data, True)\n",
    "\n",
    "# Calculate the correlation between columns for all counties\n",
    "calculateR(\"TotalCases\", \"Poverty %\", COVID_summary, False)\n",
    "calculateR(\"TotalDeaths\", \"Poverty %\", COVID_summary, False)\n",
    "calculateR(\"TotalCases\", \"Per Capita Income\", COVID_summary, False)\n",
    "calculateR(\"TotalDeaths\", \"Per Capita Income\", COVID_summary, False)"
   ]
  },
  {
   "cell_type": "code",
   "execution_count": 23,
   "id": "7dbbbd79",
   "metadata": {},
   "outputs": [
    {
     "name": "stdout",
     "output_type": "stream",
     "text": [
      "-0.11895289856840796\n",
      "0.9662049145438587\n",
      "0.42613784383071596\n",
      "0.21967385647735752\n"
     ]
    },
    {
     "data": {
      "image/png": "[encoded data removed]",
      "text/plain": [
       "<Figure size 432x288 with 1 Axes>"
      ]
     },
     "metadata": {
      "needs_background": "light"
     },
     "output_type": "display_data"
    }
   ],
   "source": [
    "# Calculate the correlation between columns for all counties in the state of Oregon\n",
    "calculateR(\"Poverty %\", \"TotalCases\", oregon_data, True)\n",
    "calculateR(\"Total Population\", \"TotalCases\", COVID_summary, False)\n",
    "calculateR(\"Per Capita Income\", \"TotalDeaths\", oregon_data, True)\n",
    "calculateR(\"Per Capita Income\", \"TotalDeaths\", COVID_summary, True)"
   ]
  }
 ],
 "metadata": {
  "kernelspec": {
   "display_name": "Python 3 (ipykernel)",
   "language": "python",
   "name": "python3"
  },
  "language_info": {
   "codemirror_mode": {
    "name": "ipython",
    "version": 3
   },
   "file_extension": ".py",
   "mimetype": "text/x-python",
   "name": "python",
   "nbconvert_exporter": "python",
   "pygments_lexer": "ipython3",
   "version": "3.9.7"
  }
 },
 "nbformat": 4,
 "nbformat_minor": 5
}
